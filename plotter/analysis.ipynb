{
 "cells": [
  {
   "cell_type": "code",
   "execution_count": 1,
   "metadata": {},
   "outputs": [],
   "source": [
    "import re\n",
    "import pandas as pd\n",
    "from tqdm import tqdm"
   ]
  },
  {
   "cell_type": "code",
   "execution_count": 4,
   "metadata": {},
   "outputs": [],
   "source": [
    "def parseLog(log_file_path):\n",
    "    # Regular expression to match the pattern \"IP: <number> Addr: <number>\"\n",
    "    pattern = r\"IP:\\s*(\\d+)\\s*Addr:\\s*(\\d+)\"\n",
    "\n",
    "    # Lists to store extracted IP and Addr values\n",
    "    ip_list = []\n",
    "    addr_list = []\n",
    "\n",
    "    # Read and process the log file\n",
    "    with open(log_file_path, 'r') as file:\n",
    "        for line in file:\n",
    "            match = re.search(pattern, line)\n",
    "            if match:\n",
    "                # Append the matched IP and Addr values to the lists\n",
    "                ip_list.append(int(match.group(1)))\n",
    "                addr_list.append(int(match.group(2)))\n",
    "    return ip_list, addr_list"
   ]
  },
  {
   "cell_type": "code",
   "execution_count": 5,
   "metadata": {},
   "outputs": [],
   "source": [
    "# Define the file path for the log file\n",
    "log_file_path = '../471.omnetpp-188B-ipcp_isbv2-case5-canary-ip.log'\n",
    "\n",
    "ip_list, addr_list = parseLog(log_file_path)\n",
    "# Create a DataFrame from the lists\n",
    "df5 = pd.DataFrame({'IP': ip_list, 'Addr': addr_list})\n",
    "\n",
    "# Define the file path for the log file\n",
    "log_file_path = '../471.omnetpp-188B-ipcp_isbv2-case6-canary-ip.log'\n",
    "\n",
    "ip_list, addr_list = parseLog(log_file_path)\n",
    "\n",
    "df6 = pd.DataFrame({'IP': ip_list, 'Addr': addr_list})"
   ]
  },
  {
   "cell_type": "code",
   "execution_count": 6,
   "metadata": {},
   "outputs": [
    {
     "name": "stdout",
     "output_type": "stream",
     "text": [
      "<class 'pandas.core.frame.DataFrame'>\n",
      "RangeIndex: 395147 entries, 0 to 395146\n",
      "Data columns (total 2 columns):\n",
      " #   Column  Non-Null Count   Dtype\n",
      "---  ------  --------------   -----\n",
      " 0   IP      395147 non-null  int64\n",
      " 1   Addr    395147 non-null  int64\n",
      "dtypes: int64(2)\n",
      "memory usage: 6.0 MB\n"
     ]
    }
   ],
   "source": [
    "df5.info()"
   ]
  },
  {
   "cell_type": "code",
   "execution_count": 7,
   "metadata": {},
   "outputs": [
    {
     "name": "stdout",
     "output_type": "stream",
     "text": [
      "<class 'pandas.core.frame.DataFrame'>\n",
      "RangeIndex: 601778 entries, 0 to 601777\n",
      "Data columns (total 2 columns):\n",
      " #   Column  Non-Null Count   Dtype\n",
      "---  ------  --------------   -----\n",
      " 0   IP      601778 non-null  int64\n",
      " 1   Addr    601778 non-null  int64\n",
      "dtypes: int64(2)\n",
      "memory usage: 9.2 MB\n"
     ]
    }
   ],
   "source": [
    "df6.info()"
   ]
  },
  {
   "cell_type": "code",
   "execution_count": 8,
   "metadata": {},
   "outputs": [
    {
     "data": {
      "text/plain": [
       "250"
      ]
     },
     "execution_count": 8,
     "metadata": {},
     "output_type": "execute_result"
    }
   ],
   "source": [
    "df6['IP'].nunique()"
   ]
  },
  {
   "cell_type": "code",
   "execution_count": 9,
   "metadata": {},
   "outputs": [
    {
     "data": {
      "text/plain": [
       "174"
      ]
     },
     "execution_count": 9,
     "metadata": {},
     "output_type": "execute_result"
    }
   ],
   "source": [
    "df5['IP'].nunique()"
   ]
  },
  {
   "cell_type": "code",
   "execution_count": 10,
   "metadata": {},
   "outputs": [
    {
     "data": {
      "text/plain": [
       "IP\n",
       "4539226    0.203423\n",
       "4539217    0.184678\n",
       "4539246    0.098963\n",
       "4539250    0.098495\n",
       "4539209    0.074124\n",
       "             ...   \n",
       "5250301    0.000003\n",
       "5251409    0.000003\n",
       "5252590    0.000003\n",
       "4252164    0.000003\n",
       "4251300    0.000003\n",
       "Name: count, Length: 174, dtype: float64"
      ]
     },
     "execution_count": 10,
     "metadata": {},
     "output_type": "execute_result"
    }
   ],
   "source": [
    "df5['IP'].value_counts()/df5['IP'].value_counts().sum()"
   ]
  },
  {
   "cell_type": "code",
   "execution_count": 11,
   "metadata": {},
   "outputs": [
    {
     "data": {
      "text/plain": [
       "IP\n",
       "4539226    0.130643\n",
       "4539217    0.116820\n",
       "4539250    0.068110\n",
       "4539246    0.065129\n",
       "4539209    0.051893\n",
       "             ...   \n",
       "4353314    0.000002\n",
       "4244348    0.000002\n",
       "4233368    0.000002\n",
       "5253105    0.000002\n",
       "5253151    0.000002\n",
       "Name: count, Length: 250, dtype: float64"
      ]
     },
     "execution_count": 11,
     "metadata": {},
     "output_type": "execute_result"
    }
   ],
   "source": [
    "df6['IP'].value_counts()/df6['IP'].value_counts().sum()"
   ]
  },
  {
   "cell_type": "code",
   "execution_count": 12,
   "metadata": {},
   "outputs": [],
   "source": [
    "series1 = df6['IP'].unique()\n",
    "series2 = df5['IP'].unique()"
   ]
  },
  {
   "cell_type": "code",
   "execution_count": 13,
   "metadata": {},
   "outputs": [
    {
     "name": "stdout",
     "output_type": "stream",
     "text": [
      "[4350995 4253720 4543004 4542524 4542533 4462153 4359247 4359254 4504152\n",
      " 4246107 4251744 4352611 4457576 4457579 4543086 4540016 4540023 4351615\n",
      " 4243072 4542592 4222094 4233368 4455584 5250213 4222118 4358821 4542632\n",
      " 4580529 4233393 4251313 4580535 4580538 4203711 5250752 4539075 4499657\n",
      " 4206288 4498642 4499676 4348637 4552926 4597486 4539632 4251389 4554498\n",
      " 4244738 4203779 4243209 4462352 4253970 4539666 4539675 4542237 4353314\n",
      " 4250918 4532528 4534065 4534071 4539706 4352846 4446032 4244821 4245338\n",
      " 4206430 4457324 4244348 4455805 4242816 4540290 4243366 4253610 4457392\n",
      " 4457401 4241865 4252110 4554194 4457426 4499924 4539864 4359131 4457438\n",
      " 4457450 4553710 5253105 4242930 4359161]\n"
     ]
    }
   ],
   "source": [
    "difference_set = set(series1) - set(series2)\n",
    "\n",
    "# Convert back to a Series if needed\n",
    "difference_series = pd.Series(list(difference_set)).unique()\n",
    "\n",
    "print(difference_series)"
   ]
  },
  {
   "cell_type": "code",
   "execution_count": 14,
   "metadata": {},
   "outputs": [
    {
     "name": "stdout",
     "output_type": "stream",
     "text": [
      "[4579072 4204773 4579080 5252586 5252590 5251409 4540406 4942456 5253404\n",
      " 5250301]\n"
     ]
    }
   ],
   "source": [
    "difference_set = set(series2) - set(series1)\n",
    "\n",
    "# Convert back to a Series if needed\n",
    "difference_series_2 = pd.Series(list(difference_set)).unique()\n",
    "\n",
    "print(difference_series_2)"
   ]
  },
  {
   "cell_type": "code",
   "execution_count": 30,
   "metadata": {},
   "outputs": [],
   "source": [
    "def parseLogs(log_file_path):\n",
    "    # Parsing Prefetch decision infos\n",
    "    pf_pattern_a = r\"Key \\(PC\\): (\\w+) Trigger physical address: (\\w+) structural address: (\\w+) prefetch target: (\\w+)\"\n",
    "    pf_pattern_b = r\"Key \\(PC\\): (\\w+) Trigger physical address: (\\w+) structural address: (\\w+)$\"\n",
    "    table_pattern = r\"Key \\(PC\\):(\\w+) Trigger:(\\w+) # candidates: (\\w+)\"\n",
    "    pf_useful_pattern = r\"ISB Useful PF: IP: (\\w+)\\s+Addr: (\\w+)\"\n",
    "\n",
    "    # Lists to store extracted values\n",
    "    pf_pc_list_a = []\n",
    "    pf_physical_address_list_a = []\n",
    "    pf_structural_address_list_a = []\n",
    "    pf_prefetch_target_list_a = []\n",
    "\n",
    "    pf_pc_list_b = []\n",
    "    pf_physical_address_list_b = []\n",
    "    pf_structural_address_list_b = []\n",
    "\n",
    "    t_pc_list = []\n",
    "    t_physical_address_list = []\n",
    "    t_structural_address_list = []\n",
    "\n",
    "    pf_useful_pc_list = []\n",
    "    pf_useful_address_list = []\n",
    "\n",
    "    # Read and process the log file line by line\n",
    "    with open(log_file_path, 'r') as file:\n",
    "        for line in tqdm(file):\n",
    "            pf_match_a = re.search(pf_pattern_a, line)\n",
    "            pf_match_b = re.search(pf_pattern_b, line)\n",
    "            tb_match = re.search(table_pattern, line)\n",
    "            pf_useful_match = re.search(pf_useful_pattern, line)\n",
    "            if pf_match_a:\n",
    "                pf_pc_list_a.append(pf_match_a.group(1))\n",
    "                pf_physical_address_list_a.append(pf_match_a.group(2))\n",
    "                pf_structural_address_list_a.append(pf_match_a.group(3))\n",
    "                pf_prefetch_target_list_a.append(pf_match_a.group(4))\n",
    "            elif pf_match_b:\n",
    "                pf_pc_list_b.append(pf_match_b.group(1))\n",
    "                pf_physical_address_list_b.append(pf_match_b.group(2))\n",
    "                pf_structural_address_list_b.append(pf_match_b.group(3))\n",
    "            elif pf_useful_match:\n",
    "                pf_useful_pc_list.append(pf_useful_match.group(1))\n",
    "                pf_useful_address_list.append(pf_useful_match.group(2))\n",
    "            elif tb_match:\n",
    "                t_pc_list.append(tb_match.group(1))\n",
    "                t_physical_address_list.append(tb_match.group(3))\n",
    "                t_structural_address_list.append(tb_match.group(2))\n",
    "\n",
    "    pf_df = pd.DataFrame({\n",
    "        'PC': pf_pc_list_a,\n",
    "        'Trigger Physical_Address': pf_physical_address_list_a,\n",
    "        'Trigger Structural_Address': pf_structural_address_list_a,\n",
    "        'Prefetch Target': pf_prefetch_target_list_a\n",
    "    })\n",
    "\n",
    "    nt_df = pd.DataFrame({\n",
    "        'PC': pf_pc_list_b,\n",
    "        'Trigger Physical_Address': pf_physical_address_list_b,\n",
    "        'Trigger Structural_Address': pf_structural_address_list_b,\n",
    "    })\n",
    "\n",
    "    useful_pf_df = pd.DataFrame({\n",
    "        'PC': pf_useful_pc_list,\n",
    "        'Prefetch_Address': pf_useful_address_list,\n",
    "    })\n",
    "\n",
    "    table_df = pd.DataFrame({\n",
    "        'PC': t_pc_list,\n",
    "        'Trigger_Address': t_structural_address_list,\n",
    "        'Candidates': t_physical_address_list,\n",
    "    })\n",
    "\n",
    "    return (pf_df, nt_df, useful_pf_df, table_df)"
   ]
  },
  {
   "cell_type": "code",
   "execution_count": 31,
   "metadata": {},
   "outputs": [
    {
     "name": "stderr",
     "output_type": "stream",
     "text": [
      "773851it [00:01, 633825.22it/s]\n"
     ]
    }
   ],
   "source": [
    "_, _, _, table_df_MT = parseLogs(\"../471.omnetpp-188B-ipcp_isbv3-all-pf-miss-train.log\")"
   ]
  },
  {
   "cell_type": "code",
   "execution_count": 32,
   "metadata": {},
   "outputs": [
    {
     "name": "stderr",
     "output_type": "stream",
     "text": [
      "1166979it [00:01, 611294.84it/s]\n"
     ]
    }
   ],
   "source": [
    "_, _, _, table_df_AT = parseLogs(\"../471.omnetpp-188B-ipcp_isbv3-all-pf-all-train.log\")"
   ]
  },
  {
   "cell_type": "code",
   "execution_count": 35,
   "metadata": {},
   "outputs": [
    {
     "data": {
      "text/plain": [
       "Candidates\n",
       "8       528\n",
       "7       222\n",
       "6       500\n",
       "5       964\n",
       "4      1636\n",
       "3      2849\n",
       "2      6180\n",
       "1    536033\n",
       "0    617745\n",
       "Name: count, dtype: int64"
      ]
     },
     "execution_count": 35,
     "metadata": {},
     "output_type": "execute_result"
    }
   ],
   "source": [
    "table_df_AT['Candidates'].value_counts().sort_index(ascending=False)"
   ]
  },
  {
   "cell_type": "code",
   "execution_count": 36,
   "metadata": {},
   "outputs": [
    {
     "data": {
      "text/plain": [
       "Candidates\n",
       "8      5264\n",
       "7       527\n",
       "6       493\n",
       "5       606\n",
       "4       662\n",
       "3       806\n",
       "2      1120\n",
       "1    467048\n",
       "0    297003\n",
       "Name: count, dtype: int64"
      ]
     },
     "execution_count": 36,
     "metadata": {},
     "output_type": "execute_result"
    }
   ],
   "source": [
    "table_df_MT['Candidates'].value_counts().sort_index(ascending=False)"
   ]
  },
  {
   "cell_type": "code",
   "execution_count": 8,
   "metadata": {},
   "outputs": [
    {
     "data": {
      "text/plain": [
       "PC\n",
       "46267c    6998\n",
       "43a5de    6993\n",
       "501cf1    4037\n",
       "44a9d7    4006\n",
       "452f40    3827\n",
       "          ... \n",
       "502ad7       1\n",
       "402e77       1\n",
       "4547f6       1\n",
       "40c427       1\n",
       "40e204       1\n",
       "Name: count, Length: 196, dtype: int64"
      ]
     },
     "execution_count": 8,
     "metadata": {},
     "output_type": "execute_result"
    }
   ],
   "source": [
    "table_df_MT['PC'].value_counts()"
   ]
  },
  {
   "cell_type": "code",
   "execution_count": 9,
   "metadata": {},
   "outputs": [
    {
     "data": {
      "text/plain": [
       "PC\n",
       "46267c    7051\n",
       "43a5de    6996\n",
       "507080    4881\n",
       "501cf1    4188\n",
       "44a9d7    4096\n",
       "          ... \n",
       "402f9c       1\n",
       "4098e3       1\n",
       "454308       1\n",
       "4544f0       1\n",
       "454840       1\n",
       "Name: count, Length: 372, dtype: int64"
      ]
     },
     "execution_count": 9,
     "metadata": {},
     "output_type": "execute_result"
    }
   ],
   "source": [
    "table_df_AT['PC'].value_counts()"
   ]
  },
  {
   "cell_type": "code",
   "execution_count": null,
   "metadata": {},
   "outputs": [
    {
     "data": {
      "text/html": [
       "<div>\n",
       "<style scoped>\n",
       "    .dataframe tbody tr th:only-of-type {\n",
       "        vertical-align: middle;\n",
       "    }\n",
       "\n",
       "    .dataframe tbody tr th {\n",
       "        vertical-align: top;\n",
       "    }\n",
       "\n",
       "    .dataframe thead th {\n",
       "        text-align: right;\n",
       "    }\n",
       "</style>\n",
       "<table border=\"1\" class=\"dataframe\">\n",
       "  <thead>\n",
       "    <tr style=\"text-align: right;\">\n",
       "      <th></th>\n",
       "      <th>PC</th>\n",
       "      <th>Structural_Address</th>\n",
       "      <th>Physical_Address</th>\n",
       "    </tr>\n",
       "  </thead>\n",
       "  <tbody>\n",
       "    <tr>\n",
       "      <th>0</th>\n",
       "      <td>46267c</td>\n",
       "      <td>400</td>\n",
       "      <td>1e6c980</td>\n",
       "    </tr>\n",
       "    <tr>\n",
       "      <th>1</th>\n",
       "      <td>46267c</td>\n",
       "      <td>401</td>\n",
       "      <td>1e6ca40</td>\n",
       "    </tr>\n",
       "    <tr>\n",
       "      <th>2</th>\n",
       "      <td>46267c</td>\n",
       "      <td>402</td>\n",
       "      <td>1dbac00</td>\n",
       "    </tr>\n",
       "    <tr>\n",
       "      <th>3</th>\n",
       "      <td>46267c</td>\n",
       "      <td>403</td>\n",
       "      <td>1dbad00</td>\n",
       "    </tr>\n",
       "    <tr>\n",
       "      <th>4</th>\n",
       "      <td>46267c</td>\n",
       "      <td>404</td>\n",
       "      <td>1dbba80</td>\n",
       "    </tr>\n",
       "    <tr>\n",
       "      <th>...</th>\n",
       "      <td>...</td>\n",
       "      <td>...</td>\n",
       "      <td>...</td>\n",
       "    </tr>\n",
       "    <tr>\n",
       "      <th>127521</th>\n",
       "      <td>507080</td>\n",
       "      <td>24cf404</td>\n",
       "      <td>3868080</td>\n",
       "    </tr>\n",
       "    <tr>\n",
       "      <th>127522</th>\n",
       "      <td>4543a7</td>\n",
       "      <td>24cf800</td>\n",
       "      <td>beda440</td>\n",
       "    </tr>\n",
       "    <tr>\n",
       "      <th>127523</th>\n",
       "      <td>45df1d</td>\n",
       "      <td>24cfc00</td>\n",
       "      <td>7f2440</td>\n",
       "    </tr>\n",
       "    <tr>\n",
       "      <th>127524</th>\n",
       "      <td>507080</td>\n",
       "      <td>24d0000</td>\n",
       "      <td>3867f80</td>\n",
       "    </tr>\n",
       "    <tr>\n",
       "      <th>127525</th>\n",
       "      <td>507080</td>\n",
       "      <td>24d0001</td>\n",
       "      <td>3868040</td>\n",
       "    </tr>\n",
       "  </tbody>\n",
       "</table>\n",
       "<p>127526 rows × 3 columns</p>\n",
       "</div>"
      ],
      "text/plain": [
       "            PC Structural_Address Physical_Address\n",
       "0       46267c                400          1e6c980\n",
       "1       46267c                401          1e6ca40\n",
       "2       46267c                402          1dbac00\n",
       "3       46267c                403          1dbad00\n",
       "4       46267c                404          1dbba80\n",
       "...        ...                ...              ...\n",
       "127521  507080            24cf404          3868080\n",
       "127522  4543a7            24cf800          beda440\n",
       "127523  45df1d            24cfc00           7f2440\n",
       "127524  507080            24d0000          3867f80\n",
       "127525  507080            24d0001          3868040\n",
       "\n",
       "[127526 rows x 3 columns]"
      ]
     },
     "execution_count": 7,
     "metadata": {},
     "output_type": "execute_result"
    }
   ],
   "source": [
    "table_df_AT"
   ]
  },
  {
   "cell_type": "code",
   "execution_count": null,
   "metadata": {},
   "outputs": [],
   "source": []
  },
  {
   "cell_type": "code",
   "execution_count": null,
   "metadata": {},
   "outputs": [],
   "source": []
  },
  {
   "cell_type": "code",
   "execution_count": null,
   "metadata": {},
   "outputs": [],
   "source": []
  },
  {
   "cell_type": "code",
   "execution_count": null,
   "metadata": {},
   "outputs": [],
   "source": []
  },
  {
   "cell_type": "code",
   "execution_count": null,
   "metadata": {},
   "outputs": [],
   "source": []
  },
  {
   "cell_type": "code",
   "execution_count": 36,
   "metadata": {},
   "outputs": [
    {
     "name": "stderr",
     "output_type": "stream",
     "text": [
      "3177766it [00:06, 460373.54it/s]\n"
     ]
    }
   ],
   "source": [
    "ipcp_isb_pf_df_ms, ipcp_isb_nt_df_ms, ipcp_isb_useful_pf_df_ms, ipcp_isb_table_df_ms = parseLogs(\"../471.omnetpp-188B-ipcp_isbv2-miss_pf-miss_train-tu.log\")"
   ]
  },
  {
   "cell_type": "code",
   "execution_count": 53,
   "metadata": {},
   "outputs": [
    {
     "data": {
      "text/plain": [
       "np.int64(559985)"
      ]
     },
     "execution_count": 53,
     "metadata": {},
     "output_type": "execute_result"
    }
   ],
   "source": [
    "ipcp_isb_useful_pf_df['PC'].value_counts().sum()"
   ]
  },
  {
   "cell_type": "code",
   "execution_count": 52,
   "metadata": {},
   "outputs": [
    {
     "data": {
      "text/plain": [
       "np.int64(724369)"
      ]
     },
     "execution_count": 52,
     "metadata": {},
     "output_type": "execute_result"
    }
   ],
   "source": [
    "frequency_a = ipcp_isb_useful_pf_df_ms['PC'].value_counts()\n",
    "frequency_a.sum()"
   ]
  },
  {
   "cell_type": "code",
   "execution_count": 51,
   "metadata": {},
   "outputs": [
    {
     "data": {
      "text/plain": [
       "np.int64(511692)"
      ]
     },
     "execution_count": 51,
     "metadata": {},
     "output_type": "execute_result"
    }
   ],
   "source": [
    "values_to_count = ipcp_isb_useful_pf_df_ms['PC'].value_counts().index\n",
    "\n",
    "# Filter and get the value counts for only the specified values\n",
    "frequency_b = ipcp_isb_useful_pf_df['PC'].value_counts().reindex(values_to_count).fillna(0).astype(int)\n",
    "\n",
    "frequency_b.sum()"
   ]
  },
  {
   "cell_type": "markdown",
   "metadata": {},
   "source": [
    "### Count of how many more useful prefetches per PC in miss stream config that are not in all_pf-miss_train config"
   ]
  },
  {
   "cell_type": "code",
   "execution_count": 58,
   "metadata": {},
   "outputs": [
    {
     "data": {
      "text/plain": [
       "PC\n",
       "4578d5    20580\n",
       "40e8b6    18560\n",
       "457dd2    16539\n",
       "4497e9    13196\n",
       "43fb2a     9351\n",
       "43d720     9035\n",
       "447b9f     8719\n",
       "454f30     8196\n",
       "502c35     8039\n",
       "501c59     7914\n",
       "40da8f     7594\n",
       "43a5de     7540\n",
       "454782     7146\n",
       "44a418     6746\n",
       "50262d     6624\n",
       "44ba08     6196\n",
       "501cf1     6147\n",
       "452f34     6122\n",
       "502c68     6100\n",
       "40e900     6088\n",
       "452f40     5804\n",
       "457dbd     5691\n",
       "44a9d7     5034\n",
       "507080     4920\n",
       "40dd26     4546\n",
       "43d75c     4105\n",
       "44b9d5     3960\n",
       "44a8c9     3958\n",
       "454f1d     3939\n",
       "447bc5     3930\n",
       "4024b3     3573\n",
       "40e860     3395\n",
       "46267c     3317\n",
       "40da67     3246\n",
       "40e7b5     3220\n",
       "40ded8     3039\n",
       "425add     3021\n",
       "454647     2996\n",
       "40cac6     2914\n",
       "4403b9     2769\n",
       "454794     2740\n",
       "43d725     2731\n",
       "40bfa6     2723\n",
       "457dc5     2608\n",
       "441649     2589\n",
       "452f18     2567\n",
       "44b9f8     2487\n",
       "40b959     2365\n",
       "40c502     2170\n",
       "44a4d2     1991\n",
       "44036c     1978\n",
       "4626c8     1974\n",
       "45506a     1937\n",
       "40e818     1903\n",
       "441710     1886\n",
       "45def7     1836\n",
       "44034a     1805\n",
       "40bd2a     1694\n",
       "440374     1624\n",
       "502adb     1600\n",
       "45e4b1     1564\n",
       "40bda3     1417\n",
       "454670     1277\n",
       "452f2d     1224\n",
       "40e1ce     1177\n",
       "44034d     1135\n",
       "5025ad      981\n",
       "40be80      862\n",
       "45e4b7      825\n",
       "45521c      749\n",
       "40e912      723\n",
       "425afa      582\n",
       "502194      551\n",
       "457bee      544\n",
       "40dea4      510\n",
       "45526e      413\n",
       "501ba8      407\n",
       "40e204      398\n",
       "440468      390\n",
       "44a4e8      372\n",
       "46c46f      358\n",
       "43fd7d      324\n",
       "502a51      306\n",
       "40b9c9      303\n",
       "40bf09      291\n",
       "426b4e      285\n",
       "42817e      281\n",
       "4403b0      268\n",
       "40defd      263\n",
       "4283f9      263\n",
       "46c46b      220\n",
       "42817b      218\n",
       "406c8e      197\n",
       "40e884      184\n",
       "4550a8      179\n",
       "4626cc      173\n",
       "426a3f      172\n",
       "428104      158\n",
       "40dee3      144\n",
       "42844f      141\n",
       "46c451      137\n",
       "426413      123\n",
       "45503c      113\n",
       "5025c6      112\n",
       "4098b1      103\n",
       "4403f8      103\n",
       "44a9d4       94\n",
       "454801       94\n",
       "501ca5       90\n",
       "4542e6       88\n",
       "40deb1       82\n",
       "406ca6       79\n",
       "428456       68\n",
       "44ba58       66\n",
       "42811b       65\n",
       "44035d       60\n",
       "4403de       57\n",
       "4547b6       56\n",
       "455080       53\n",
       "501f78       40\n",
       "4282a5       40\n",
       "455045       37\n",
       "40bd80       36\n",
       "501cad       33\n",
       "502613       31\n",
       "502147       27\n",
       "5027cf       23\n",
       "4403d2       22\n",
       "40bdf2       20\n",
       "40e060       20\n",
       "44a8dc       15\n",
       "4578de       13\n",
       "45438b       12\n",
       "454626       11\n",
       "452930       11\n",
       "45438e       10\n",
       "457f02       10\n",
       "43fca0       10\n",
       "40ca5b        7\n",
       "40c739        6\n",
       "452f37        6\n",
       "44a9ef        5\n",
       "4626ee        5\n",
       "428145        4\n",
       "40c555        4\n",
       "449e6f        3\n",
       "45e4ba        2\n",
       "40c413        1\n",
       "454522        1\n",
       "40c37c        1\n",
       "40abb7        1\n",
       "4544f0        1\n",
       "Name: count, dtype: int64"
      ]
     },
     "execution_count": 58,
     "metadata": {},
     "output_type": "execute_result"
    }
   ],
   "source": [
    "pd.set_option('display.max_rows', None)\n",
    "delta = frequency_a - frequency_b\n",
    "delta[delta.values > 0].sort_values(ascending=False)\n",
    "# pd.set_option('display.max_rows', 100)"
   ]
  },
  {
   "cell_type": "code",
   "execution_count": 59,
   "metadata": {},
   "outputs": [],
   "source": [
    "pd.set_option('display.max_rows', 100)"
   ]
  },
  {
   "cell_type": "code",
   "execution_count": 64,
   "metadata": {},
   "outputs": [
    {
     "data": {
      "text/html": [
       "<div>\n",
       "<style scoped>\n",
       "    .dataframe tbody tr th:only-of-type {\n",
       "        vertical-align: middle;\n",
       "    }\n",
       "\n",
       "    .dataframe tbody tr th {\n",
       "        vertical-align: top;\n",
       "    }\n",
       "\n",
       "    .dataframe thead th {\n",
       "        text-align: right;\n",
       "    }\n",
       "</style>\n",
       "<table border=\"1\" class=\"dataframe\">\n",
       "  <thead>\n",
       "    <tr style=\"text-align: right;\">\n",
       "      <th></th>\n",
       "      <th>PC</th>\n",
       "      <th>Trigger Physical_Address</th>\n",
       "      <th>Trigger Structural_Address</th>\n",
       "      <th>Prefetch Target</th>\n",
       "    </tr>\n",
       "  </thead>\n",
       "  <tbody>\n",
       "    <tr>\n",
       "      <th>54457</th>\n",
       "      <td>4578d5</td>\n",
       "      <td>4561fc0</td>\n",
       "      <td>22800</td>\n",
       "      <td>45bae00</td>\n",
       "    </tr>\n",
       "    <tr>\n",
       "      <th>54458</th>\n",
       "      <td>4578d5</td>\n",
       "      <td>4561fc0</td>\n",
       "      <td>22800</td>\n",
       "      <td>4613c40</td>\n",
       "    </tr>\n",
       "    <tr>\n",
       "      <th>54459</th>\n",
       "      <td>4578d5</td>\n",
       "      <td>4561fc0</td>\n",
       "      <td>22800</td>\n",
       "      <td>466ca40</td>\n",
       "    </tr>\n",
       "    <tr>\n",
       "      <th>54460</th>\n",
       "      <td>4578d5</td>\n",
       "      <td>4561fc0</td>\n",
       "      <td>22800</td>\n",
       "      <td>46c3100</td>\n",
       "    </tr>\n",
       "    <tr>\n",
       "      <th>54461</th>\n",
       "      <td>4578d5</td>\n",
       "      <td>4561fc0</td>\n",
       "      <td>22800</td>\n",
       "      <td>471e680</td>\n",
       "    </tr>\n",
       "    <tr>\n",
       "      <th>...</th>\n",
       "      <td>...</td>\n",
       "      <td>...</td>\n",
       "      <td>...</td>\n",
       "      <td>...</td>\n",
       "    </tr>\n",
       "    <tr>\n",
       "      <th>5562475</th>\n",
       "      <td>4578d5</td>\n",
       "      <td>44dc280</td>\n",
       "      <td>2907</td>\n",
       "      <td>44e3640</td>\n",
       "    </tr>\n",
       "    <tr>\n",
       "      <th>5562476</th>\n",
       "      <td>4578d5</td>\n",
       "      <td>44dc280</td>\n",
       "      <td>2907</td>\n",
       "      <td>44e7080</td>\n",
       "    </tr>\n",
       "    <tr>\n",
       "      <th>5562477</th>\n",
       "      <td>4578d5</td>\n",
       "      <td>44dc280</td>\n",
       "      <td>2907</td>\n",
       "      <td>44ee900</td>\n",
       "    </tr>\n",
       "    <tr>\n",
       "      <th>5562478</th>\n",
       "      <td>4578d5</td>\n",
       "      <td>44dc280</td>\n",
       "      <td>2907</td>\n",
       "      <td>61cb840</td>\n",
       "    </tr>\n",
       "    <tr>\n",
       "      <th>5562479</th>\n",
       "      <td>4578d5</td>\n",
       "      <td>44dc280</td>\n",
       "      <td>2907</td>\n",
       "      <td>61cf1c0</td>\n",
       "    </tr>\n",
       "  </tbody>\n",
       "</table>\n",
       "<p>20534 rows × 4 columns</p>\n",
       "</div>"
      ],
      "text/plain": [
       "             PC Trigger Physical_Address Trigger Structural_Address  \\\n",
       "54457    4578d5                  4561fc0                      22800   \n",
       "54458    4578d5                  4561fc0                      22800   \n",
       "54459    4578d5                  4561fc0                      22800   \n",
       "54460    4578d5                  4561fc0                      22800   \n",
       "54461    4578d5                  4561fc0                      22800   \n",
       "...         ...                      ...                        ...   \n",
       "5562475  4578d5                  44dc280                       2907   \n",
       "5562476  4578d5                  44dc280                       2907   \n",
       "5562477  4578d5                  44dc280                       2907   \n",
       "5562478  4578d5                  44dc280                       2907   \n",
       "5562479  4578d5                  44dc280                       2907   \n",
       "\n",
       "        Prefetch Target  \n",
       "54457           45bae00  \n",
       "54458           4613c40  \n",
       "54459           466ca40  \n",
       "54460           46c3100  \n",
       "54461           471e680  \n",
       "...                 ...  \n",
       "5562475         44e3640  \n",
       "5562476         44e7080  \n",
       "5562477         44ee900  \n",
       "5562478         61cb840  \n",
       "5562479         61cf1c0  \n",
       "\n",
       "[20534 rows x 4 columns]"
      ]
     },
     "execution_count": 64,
     "metadata": {},
     "output_type": "execute_result"
    }
   ],
   "source": [
    "ipcp_isb_pf_df[ipcp_isb_pf_df['PC'] == '4578d5']"
   ]
  },
  {
   "cell_type": "code",
   "execution_count": 67,
   "metadata": {},
   "outputs": [
    {
     "data": {
      "text/html": [
       "<div>\n",
       "<style scoped>\n",
       "    .dataframe tbody tr th:only-of-type {\n",
       "        vertical-align: middle;\n",
       "    }\n",
       "\n",
       "    .dataframe tbody tr th {\n",
       "        vertical-align: top;\n",
       "    }\n",
       "\n",
       "    .dataframe thead th {\n",
       "        text-align: right;\n",
       "    }\n",
       "</style>\n",
       "<table border=\"1\" class=\"dataframe\">\n",
       "  <thead>\n",
       "    <tr style=\"text-align: right;\">\n",
       "      <th></th>\n",
       "      <th>PC</th>\n",
       "      <th>Structural_Address</th>\n",
       "      <th>Physical_Address</th>\n",
       "    </tr>\n",
       "  </thead>\n",
       "  <tbody>\n",
       "    <tr>\n",
       "      <th>1636</th>\n",
       "      <td>4578d5</td>\n",
       "      <td>2800</td>\n",
       "      <td>1dbb640</td>\n",
       "    </tr>\n",
       "    <tr>\n",
       "      <th>1637</th>\n",
       "      <td>4578d5</td>\n",
       "      <td>2801</td>\n",
       "      <td>1dbc940</td>\n",
       "    </tr>\n",
       "    <tr>\n",
       "      <th>1638</th>\n",
       "      <td>4578d5</td>\n",
       "      <td>2802</td>\n",
       "      <td>1dbdc00</td>\n",
       "    </tr>\n",
       "    <tr>\n",
       "      <th>1639</th>\n",
       "      <td>4578d5</td>\n",
       "      <td>2803</td>\n",
       "      <td>1dc1500</td>\n",
       "    </tr>\n",
       "    <tr>\n",
       "      <th>1640</th>\n",
       "      <td>4578d5</td>\n",
       "      <td>2804</td>\n",
       "      <td>1dc27c0</td>\n",
       "    </tr>\n",
       "    <tr>\n",
       "      <th>...</th>\n",
       "      <td>...</td>\n",
       "      <td>...</td>\n",
       "      <td>...</td>\n",
       "    </tr>\n",
       "    <tr>\n",
       "      <th>214207</th>\n",
       "      <td>4578d5</td>\n",
       "      <td>22dc80a</td>\n",
       "      <td>6654200</td>\n",
       "    </tr>\n",
       "    <tr>\n",
       "      <th>214208</th>\n",
       "      <td>4578d5</td>\n",
       "      <td>22dc80b</td>\n",
       "      <td>6650840</td>\n",
       "    </tr>\n",
       "    <tr>\n",
       "      <th>214209</th>\n",
       "      <td>4578d5</td>\n",
       "      <td>22dc80c</td>\n",
       "      <td>664ce40</td>\n",
       "    </tr>\n",
       "    <tr>\n",
       "      <th>214210</th>\n",
       "      <td>4578d5</td>\n",
       "      <td>22dc80d</td>\n",
       "      <td>61c6740</td>\n",
       "    </tr>\n",
       "    <tr>\n",
       "      <th>214211</th>\n",
       "      <td>4578d5</td>\n",
       "      <td>22dc80e</td>\n",
       "      <td>63b9b80</td>\n",
       "    </tr>\n",
       "  </tbody>\n",
       "</table>\n",
       "<p>4542 rows × 3 columns</p>\n",
       "</div>"
      ],
      "text/plain": [
       "            PC Structural_Address Physical_Address\n",
       "1636    4578d5               2800          1dbb640\n",
       "1637    4578d5               2801          1dbc940\n",
       "1638    4578d5               2802          1dbdc00\n",
       "1639    4578d5               2803          1dc1500\n",
       "1640    4578d5               2804          1dc27c0\n",
       "...        ...                ...              ...\n",
       "214207  4578d5            22dc80a          6654200\n",
       "214208  4578d5            22dc80b          6650840\n",
       "214209  4578d5            22dc80c          664ce40\n",
       "214210  4578d5            22dc80d          61c6740\n",
       "214211  4578d5            22dc80e          63b9b80\n",
       "\n",
       "[4542 rows x 3 columns]"
      ]
     },
     "execution_count": 67,
     "metadata": {},
     "output_type": "execute_result"
    }
   ],
   "source": [
    "ipcp_isb_table_df[ipcp_isb_table_df['PC'] == '4578d5']"
   ]
  },
  {
   "cell_type": "code",
   "execution_count": 23,
   "metadata": {},
   "outputs": [
    {
     "data": {
      "text/plain": [
       "PC\n",
       "44b9f8    19280\n",
       "43a5de    18392\n",
       "452f24    16680\n",
       "507080    16536\n",
       "447b9f    15227\n",
       "          ...  \n",
       "5025a3        1\n",
       "44092c        1\n",
       "44a490        1\n",
       "42816c        1\n",
       "50297a        1\n",
       "Name: count, Length: 286, dtype: int64"
      ]
     },
     "execution_count": 23,
     "metadata": {},
     "output_type": "execute_result"
    }
   ],
   "source": [
    "ipcp_isb_nt_df_ms['PC'].value_counts()"
   ]
  },
  {
   "cell_type": "code",
   "execution_count": 24,
   "metadata": {},
   "outputs": [
    {
     "data": {
      "text/plain": [
       "PC\n",
       "45435a    124868\n",
       "454351    119582\n",
       "454372     82240\n",
       "45436e     80111\n",
       "507080     48707\n",
       "           ...  \n",
       "40abb7         2\n",
       "447be1         1\n",
       "426a63         1\n",
       "45df60         1\n",
       "502d05         1\n",
       "Name: count, Length: 246, dtype: int64"
      ]
     },
     "execution_count": 24,
     "metadata": {},
     "output_type": "execute_result"
    }
   ],
   "source": [
    "ipcp_isb_pf_df_ms['PC'].value_counts()"
   ]
  },
  {
   "cell_type": "code",
   "execution_count": 25,
   "metadata": {},
   "outputs": [
    {
     "data": {
      "text/html": [
       "<div>\n",
       "<style scoped>\n",
       "    .dataframe tbody tr th:only-of-type {\n",
       "        vertical-align: middle;\n",
       "    }\n",
       "\n",
       "    .dataframe tbody tr th {\n",
       "        vertical-align: top;\n",
       "    }\n",
       "\n",
       "    .dataframe thead th {\n",
       "        text-align: right;\n",
       "    }\n",
       "</style>\n",
       "<table border=\"1\" class=\"dataframe\">\n",
       "  <thead>\n",
       "    <tr style=\"text-align: right;\">\n",
       "      <th></th>\n",
       "      <th>PC</th>\n",
       "      <th>Trigger Physical_Address</th>\n",
       "      <th>Trigger Structural_Address</th>\n",
       "      <th>Prefetch Target</th>\n",
       "    </tr>\n",
       "  </thead>\n",
       "  <tbody>\n",
       "    <tr>\n",
       "      <th>12</th>\n",
       "      <td>45435a</td>\n",
       "      <td>ac969c0</td>\n",
       "      <td>1007</td>\n",
       "      <td>974db40</td>\n",
       "    </tr>\n",
       "    <tr>\n",
       "      <th>13</th>\n",
       "      <td>45435a</td>\n",
       "      <td>ac969c0</td>\n",
       "      <td>1007</td>\n",
       "      <td>81b2d00</td>\n",
       "    </tr>\n",
       "    <tr>\n",
       "      <th>14</th>\n",
       "      <td>45435a</td>\n",
       "      <td>ac969c0</td>\n",
       "      <td>1007</td>\n",
       "      <td>bbec3c0</td>\n",
       "    </tr>\n",
       "    <tr>\n",
       "      <th>15</th>\n",
       "      <td>45435a</td>\n",
       "      <td>ac969c0</td>\n",
       "      <td>1007</td>\n",
       "      <td>802b940</td>\n",
       "    </tr>\n",
       "    <tr>\n",
       "      <th>16</th>\n",
       "      <td>45435a</td>\n",
       "      <td>ac969c0</td>\n",
       "      <td>1007</td>\n",
       "      <td>802d100</td>\n",
       "    </tr>\n",
       "    <tr>\n",
       "      <th>...</th>\n",
       "      <td>...</td>\n",
       "      <td>...</td>\n",
       "      <td>...</td>\n",
       "      <td>...</td>\n",
       "    </tr>\n",
       "    <tr>\n",
       "      <th>1681519</th>\n",
       "      <td>45435a</td>\n",
       "      <td>b0fc000</td>\n",
       "      <td>3811005</td>\n",
       "      <td>889a380</td>\n",
       "    </tr>\n",
       "    <tr>\n",
       "      <th>1681555</th>\n",
       "      <td>45435a</td>\n",
       "      <td>80a5c80</td>\n",
       "      <td>2798401</td>\n",
       "      <td>80a8c00</td>\n",
       "    </tr>\n",
       "    <tr>\n",
       "      <th>1681633</th>\n",
       "      <td>45435a</td>\n",
       "      <td>b0cf0c0</td>\n",
       "      <td>289d008</td>\n",
       "      <td>beca3c0</td>\n",
       "    </tr>\n",
       "    <tr>\n",
       "      <th>1681634</th>\n",
       "      <td>45435a</td>\n",
       "      <td>b0d4fc0</td>\n",
       "      <td>387f000</td>\n",
       "      <td>b1d0700</td>\n",
       "    </tr>\n",
       "    <tr>\n",
       "      <th>1681635</th>\n",
       "      <td>45435a</td>\n",
       "      <td>b0d4fc0</td>\n",
       "      <td>387f000</td>\n",
       "      <td>b1d6600</td>\n",
       "    </tr>\n",
       "  </tbody>\n",
       "</table>\n",
       "<p>124868 rows × 4 columns</p>\n",
       "</div>"
      ],
      "text/plain": [
       "             PC Trigger Physical_Address Trigger Structural_Address  \\\n",
       "12       45435a                  ac969c0                       1007   \n",
       "13       45435a                  ac969c0                       1007   \n",
       "14       45435a                  ac969c0                       1007   \n",
       "15       45435a                  ac969c0                       1007   \n",
       "16       45435a                  ac969c0                       1007   \n",
       "...         ...                      ...                        ...   \n",
       "1681519  45435a                  b0fc000                    3811005   \n",
       "1681555  45435a                  80a5c80                    2798401   \n",
       "1681633  45435a                  b0cf0c0                    289d008   \n",
       "1681634  45435a                  b0d4fc0                    387f000   \n",
       "1681635  45435a                  b0d4fc0                    387f000   \n",
       "\n",
       "        Prefetch Target  \n",
       "12              974db40  \n",
       "13              81b2d00  \n",
       "14              bbec3c0  \n",
       "15              802b940  \n",
       "16              802d100  \n",
       "...                 ...  \n",
       "1681519         889a380  \n",
       "1681555         80a8c00  \n",
       "1681633         beca3c0  \n",
       "1681634         b1d0700  \n",
       "1681635         b1d6600  \n",
       "\n",
       "[124868 rows x 4 columns]"
      ]
     },
     "execution_count": 25,
     "metadata": {},
     "output_type": "execute_result"
    }
   ],
   "source": [
    "ipcp_isb_pf_df_ms[ipcp_isb_pf_df_ms['PC'] == '45435a']"
   ]
  },
  {
   "cell_type": "code",
   "execution_count": 26,
   "metadata": {},
   "outputs": [
    {
     "data": {
      "text/plain": [
       "array(['45435a', '454351', '45436e', '454372', '454349', '45438b',\n",
       "       '4543a7', '45438e', '454647', '4543a0', '457dbd', '40ea06',\n",
       "       '425b50', '454801', '454808', '46c458', '46c46f', '46c443',\n",
       "       '457c4c', '4542ce', '4542d2', '454794', '4542e6', '45def7',\n",
       "       '4542f2', '40e928', '507080', '45df19', '4578d5', '457bee',\n",
       "       '43ffe3', '45def0', '43ff95', '501c59', '457dc5', '44b9f8',\n",
       "       '43d75c', '43fb0a', '45df1d', '42681b', '46c47e', '46c430',\n",
       "       '426916', '46c46b', '46c451', '426a20', '426a3f', '507082',\n",
       "       '426cd7', '4028e5', '4542c3', '45df3c', '4542f9', '44ba08',\n",
       "       '4542e9', '452f24', '505cc8', '45434e', '447b9f', '425e79',\n",
       "       '406c8e', '4079df', '45e4c6', '4403de', '502629', '502740',\n",
       "       '4547cb', '502744', '5026f1', '45df60', '502ad7', '426425',\n",
       "       '45df08', '4403d2', '426b87', '4403ca', '50262d', '44034d',\n",
       "       '4403ea', '4079e4', '425afa', '40ba31', '425b70', '455513',\n",
       "       '40da8f', '40cac6', '40da67', '5025ad', '40ca5b', '40cba2',\n",
       "       '45e4a8', '40ba3d', '501cf1', '40bd5c', '502194', '45478d',\n",
       "       '428100', '4547b9', '40db76', '502613', '4547f6', '4403f8',\n",
       "       '452f34', '447c68', '44034a', '4545a2', '45df00', '44a418',\n",
       "       '454522', '447c4c', '454626', '43d755', '43d750', '40c44d',\n",
       "       '43d72c', '44a9d4', '452f40', '454f10', '43fb2a', '4547b6',\n",
       "       '4547c4', '454f19', '502ae3', '4409cb', '4497e9', '5025c6',\n",
       "       '4545a9', '40b969', '40c4fb', '44a4e8', '44039d', '501ba8',\n",
       "       '40c3e1', '40c406', '40c739', '454599', '43d720', '402eca',\n",
       "       '454536', '40e91b', '426cb8', '43a5de', '4626c8', '46267c',\n",
       "       '457f02', '40e7c3', '46c573', '426b68', '43ff46', '440374',\n",
       "       '4028ea', '502c35', '502c68', '502c3f', '502adf', '5029ea',\n",
       "       '502adb', '4b6a5b', '40caa5', '44b9d5', '4403e4', '502a51',\n",
       "       '40c3be', '4b6aa6', '4b7b34', '452f18', '4027a5', '40ea32',\n",
       "       '457c56', '447bc5', '40e884', '452f2d', '46c9f8', '40c55f',\n",
       "       '40c754', '4542c0', '46c6dd', '45462a', '4543cd', '40e7d3',\n",
       "       '40c3c4', '4544bb', '46c96b', '501f78', '447be1', '45506a',\n",
       "       '40dee3', '40ded8', '40df3f', '454f30', '40de94', '501cfd',\n",
       "       '45e4bd', '4626e8', '501ec0', '40e7aa', '40db70', '40e7b5',\n",
       "       '40bda3', '4282c4', '428104', '42815c', '42811b', '40bd2a',\n",
       "       '5025ee', '5025f2', '5044d4', '45df55', '5025f4', '5044e6',\n",
       "       '44035d', '42842d', '43d725', '501cad', '5025eb', '5025ec',\n",
       "       '44a9d7', '43ffe7', '402ec6', '44036c', '44040e', '40e8db',\n",
       "       '40c3a3', '452f37', '440933', '426e33', '5027f5', '50281f',\n",
       "       '44ba58', '449e6f', '44a4d2', '402dd3', '40bdc4', '40e860',\n",
       "       '455239', '5025ea', '5072aa', '46c59f', '50297a', '455522',\n",
       "       '44038a', '40b959', '502147', '501ca5', '42817b', '5044dd',\n",
       "       '4024b3', '45551d', '40cadf', '43fd5f', '50287a', '40b9d9',\n",
       "       '452f31', '40c3ee', '4626cc', '40abb7', '43ffdf', '45291b',\n",
       "       '452929', '45df4d', '40e8b6', '452920', '405480', '42816c',\n",
       "       '42817e', '5027c7', '5027b7', '40e204', '40a5ef', '501f70',\n",
       "       '40dea4', '502151', '501c9c', '40e900', '44a9ef', '46c6d9',\n",
       "       '5027cf', '50291c', '502807', '40eb84', '40c37c', '454f1d',\n",
       "       '501f24', '40df4c', '5027f1'], dtype=object)"
      ]
     },
     "execution_count": 26,
     "metadata": {},
     "output_type": "execute_result"
    }
   ],
   "source": [
    "ipcp_isb_pf_df['PC'].unique()"
   ]
  },
  {
   "cell_type": "markdown",
   "metadata": {},
   "source": [
    "### IPs for which prefetch was triggered in all_pf-miss-train config but not in miss_stream config"
   ]
  },
  {
   "cell_type": "code",
   "execution_count": 27,
   "metadata": {},
   "outputs": [
    {
     "name": "stdout",
     "output_type": "stream",
     "text": [
      "['44040e' '5044d4' '50291c' '45e4bd' '40df4c' '5025ee' '454599' '40e7d3'\n",
      " '455239' '502adf' '40b969' '402eca' '4282c4' '45df00' '45551d' '4543cd'\n",
      " '426e33' '5044e6' '43ff95' '4409cb' '40c406' '405480' '4544bb' '5025eb'\n",
      " '5044dd' '502c3f' '45df08' '50287a' '4b6a5b' '502151' '40c3be' '40df3f'\n",
      " '5025f4' '4b7b34' '40e8db' '426cb8' '4403ca' '426425' '45df1d' '440933'\n",
      " '447c68' '50297a' '43ffe7' '4079df' '5072aa' '452929' '40ba3d' '4028ea'\n",
      " '43ffdf' '4547f6' '457c4c' '40a5ef' '5025ea' '402dd3' '4542ce' '40c3ee'\n",
      " '501c9c' '455522' '46c9f8' '4542c0' '45291b' '501f24' '4403e4' '40bd5c'\n",
      " '502ae3' '45462a' '46c59f' '40de94' '46c573' '40cadf' '46c6dd' '5027c7'\n",
      " '5025ec' '40eb84' '428100' '40c3a3' '426cd7' '40cba2' '40e7aa' '40e928'\n",
      " '452920' '45df55' '40b9d9' '40ea32' '40caa5' '501f70' '426916' '40c3e1'\n",
      " '402ec6' '43ffe3' '40c44d' '40bdc4' '46c96b' '46c6d9' '4079e4' '5025f2'\n",
      " '502807' '46c47e' '4027a5' '50281f' '45df4d' '454536' '40c3c4' '501cfd']\n"
     ]
    }
   ],
   "source": [
    "series1 = ipcp_isb_pf_df['PC'].unique()\n",
    "series2 = ipcp_isb_pf_df_ms['PC'].unique()\n",
    "difference_set = set(series1) - set(series2)\n",
    "\n",
    "# Convert back to a Series if needed\n",
    "difference_series = pd.Series(list(difference_set)).unique()\n",
    "\n",
    "print(difference_series)"
   ]
  },
  {
   "cell_type": "markdown",
   "metadata": {},
   "source": [
    "### IPs for which prefetch was triggered in miss_stream config but not in all_pf-miss-train config"
   ]
  },
  {
   "cell_type": "code",
   "execution_count": 28,
   "metadata": {},
   "outputs": [
    {
     "name": "stdout",
     "output_type": "stream",
     "text": [
      "['4098b1' '40bf09' '428145' '4283db' '40bb04' '441710' '45e4ba' '455045'\n",
      " '4283f9' '426b4e' '452930' '43fd7d' '40defd' '454670' '45503c' '4024bf'\n",
      " '40c413' '40deb1' '45e4b7' '40c502' '502d05' '40e912' '45451b' '4550a8'\n",
      " '428456' '40b9c9' '426413' '454512' '44a8dc' '426d22' '40bdf2' '406ca6'\n",
      " '455080' '4578de' '45453a' '40e1ce' '40c555' '40e818' '402e77' '40bfa6'\n",
      " '402503' '425add' '43fca0' '40be80' '42844f' '4403b9' '44a8c9' '4544f0'\n",
      " '454782' '402ed0' '45e4b1' '4403b0' '4282a5' '44046b' '40bd80' '45521c'\n",
      " '440468' '40dd26' '426a63' '4626ee' '45526e' '441649' '40e060' '457dd2'\n",
      " '440365']\n"
     ]
    }
   ],
   "source": [
    "difference_set = set(series2) - set(series1)\n",
    "\n",
    "# Convert back to a Series if needed\n",
    "difference_series = pd.Series(list(difference_set)).unique()\n",
    "\n",
    "print(difference_series)"
   ]
  },
  {
   "cell_type": "code",
   "execution_count": 29,
   "metadata": {},
   "outputs": [
    {
     "data": {
      "text/plain": [
       "PC\n",
       "45435a    717092\n",
       "454351    673107\n",
       "454349    406160\n",
       "45436e    388215\n",
       "454372    378676\n",
       "           ...  \n",
       "5044dd         1\n",
       "46c6d9         1\n",
       "40c37c         1\n",
       "501f24         1\n",
       "454f1d         1\n",
       "Name: count, Length: 285, dtype: int64"
      ]
     },
     "execution_count": 29,
     "metadata": {},
     "output_type": "execute_result"
    }
   ],
   "source": [
    "ipcp_isb_pf_df['PC'].value_counts()"
   ]
  },
  {
   "cell_type": "code",
   "execution_count": 30,
   "metadata": {},
   "outputs": [
    {
     "data": {
      "text/plain": [
       "PC\n",
       "45435a    124868\n",
       "454351    119582\n",
       "454372     82240\n",
       "45436e     80111\n",
       "507080     48707\n",
       "           ...  \n",
       "40abb7         2\n",
       "447be1         1\n",
       "426a63         1\n",
       "45df60         1\n",
       "502d05         1\n",
       "Name: count, Length: 246, dtype: int64"
      ]
     },
     "execution_count": 30,
     "metadata": {},
     "output_type": "execute_result"
    }
   ],
   "source": [
    "ipcp_isb_pf_df_ms['PC'].value_counts()"
   ]
  },
  {
   "cell_type": "code",
   "execution_count": 31,
   "metadata": {},
   "outputs": [
    {
     "data": {
      "text/html": [
       "<div>\n",
       "<style scoped>\n",
       "    .dataframe tbody tr th:only-of-type {\n",
       "        vertical-align: middle;\n",
       "    }\n",
       "\n",
       "    .dataframe tbody tr th {\n",
       "        vertical-align: top;\n",
       "    }\n",
       "\n",
       "    .dataframe thead th {\n",
       "        text-align: right;\n",
       "    }\n",
       "</style>\n",
       "<table border=\"1\" class=\"dataframe\">\n",
       "  <thead>\n",
       "    <tr style=\"text-align: right;\">\n",
       "      <th></th>\n",
       "      <th>PC</th>\n",
       "      <th>Trigger Physical_Address</th>\n",
       "      <th>Trigger Structural_Address</th>\n",
       "      <th>Prefetch Target</th>\n",
       "    </tr>\n",
       "  </thead>\n",
       "  <tbody>\n",
       "    <tr>\n",
       "      <th>0</th>\n",
       "      <td>45435a</td>\n",
       "      <td>805e0c0</td>\n",
       "      <td>400</td>\n",
       "      <td>802a180</td>\n",
       "    </tr>\n",
       "    <tr>\n",
       "      <th>1</th>\n",
       "      <td>45435a</td>\n",
       "      <td>805e0c0</td>\n",
       "      <td>400</td>\n",
       "      <td>802e8c0</td>\n",
       "    </tr>\n",
       "    <tr>\n",
       "      <th>2</th>\n",
       "      <td>45435a</td>\n",
       "      <td>805e0c0</td>\n",
       "      <td>400</td>\n",
       "      <td>8043540</td>\n",
       "    </tr>\n",
       "    <tr>\n",
       "      <th>3</th>\n",
       "      <td>45435a</td>\n",
       "      <td>805e0c0</td>\n",
       "      <td>400</td>\n",
       "      <td>ab50d00</td>\n",
       "    </tr>\n",
       "    <tr>\n",
       "      <th>4</th>\n",
       "      <td>45435a</td>\n",
       "      <td>805e0c0</td>\n",
       "      <td>400</td>\n",
       "      <td>820fc00</td>\n",
       "    </tr>\n",
       "    <tr>\n",
       "      <th>...</th>\n",
       "      <td>...</td>\n",
       "      <td>...</td>\n",
       "      <td>...</td>\n",
       "      <td>...</td>\n",
       "    </tr>\n",
       "    <tr>\n",
       "      <th>5605141</th>\n",
       "      <td>45435a</td>\n",
       "      <td>b0cf0c0</td>\n",
       "      <td>23a0805</td>\n",
       "      <td>80b7980</td>\n",
       "    </tr>\n",
       "    <tr>\n",
       "      <th>5605142</th>\n",
       "      <td>45435a</td>\n",
       "      <td>b0cf0c0</td>\n",
       "      <td>23a0805</td>\n",
       "      <td>bf36680</td>\n",
       "    </tr>\n",
       "    <tr>\n",
       "      <th>5605220</th>\n",
       "      <td>45435a</td>\n",
       "      <td>be685c0</td>\n",
       "      <td>495404</td>\n",
       "      <td>ae12000</td>\n",
       "    </tr>\n",
       "    <tr>\n",
       "      <th>5605223</th>\n",
       "      <td>45435a</td>\n",
       "      <td>bea2bc0</td>\n",
       "      <td>23a0806</td>\n",
       "      <td>80b7980</td>\n",
       "    </tr>\n",
       "    <tr>\n",
       "      <th>5605224</th>\n",
       "      <td>45435a</td>\n",
       "      <td>bea2bc0</td>\n",
       "      <td>23a0806</td>\n",
       "      <td>bf36680</td>\n",
       "    </tr>\n",
       "  </tbody>\n",
       "</table>\n",
       "<p>717092 rows × 4 columns</p>\n",
       "</div>"
      ],
      "text/plain": [
       "             PC Trigger Physical_Address Trigger Structural_Address  \\\n",
       "0        45435a                  805e0c0                        400   \n",
       "1        45435a                  805e0c0                        400   \n",
       "2        45435a                  805e0c0                        400   \n",
       "3        45435a                  805e0c0                        400   \n",
       "4        45435a                  805e0c0                        400   \n",
       "...         ...                      ...                        ...   \n",
       "5605141  45435a                  b0cf0c0                    23a0805   \n",
       "5605142  45435a                  b0cf0c0                    23a0805   \n",
       "5605220  45435a                  be685c0                     495404   \n",
       "5605223  45435a                  bea2bc0                    23a0806   \n",
       "5605224  45435a                  bea2bc0                    23a0806   \n",
       "\n",
       "        Prefetch Target  \n",
       "0               802a180  \n",
       "1               802e8c0  \n",
       "2               8043540  \n",
       "3               ab50d00  \n",
       "4               820fc00  \n",
       "...                 ...  \n",
       "5605141         80b7980  \n",
       "5605142         bf36680  \n",
       "5605220         ae12000  \n",
       "5605223         80b7980  \n",
       "5605224         bf36680  \n",
       "\n",
       "[717092 rows x 4 columns]"
      ]
     },
     "execution_count": 31,
     "metadata": {},
     "output_type": "execute_result"
    }
   ],
   "source": [
    "ipcp_isb_pf_df[ipcp_isb_pf_df['PC'] == '45435a']"
   ]
  },
  {
   "cell_type": "code",
   "execution_count": 32,
   "metadata": {},
   "outputs": [
    {
     "data": {
      "text/html": [
       "<div>\n",
       "<style scoped>\n",
       "    .dataframe tbody tr th:only-of-type {\n",
       "        vertical-align: middle;\n",
       "    }\n",
       "\n",
       "    .dataframe tbody tr th {\n",
       "        vertical-align: top;\n",
       "    }\n",
       "\n",
       "    .dataframe thead th {\n",
       "        text-align: right;\n",
       "    }\n",
       "</style>\n",
       "<table border=\"1\" class=\"dataframe\">\n",
       "  <thead>\n",
       "    <tr style=\"text-align: right;\">\n",
       "      <th></th>\n",
       "      <th>PC</th>\n",
       "      <th>Trigger Physical_Address</th>\n",
       "      <th>Trigger Structural_Address</th>\n",
       "      <th>Prefetch Target</th>\n",
       "    </tr>\n",
       "  </thead>\n",
       "  <tbody>\n",
       "    <tr>\n",
       "      <th>12</th>\n",
       "      <td>45435a</td>\n",
       "      <td>ac969c0</td>\n",
       "      <td>1007</td>\n",
       "      <td>974db40</td>\n",
       "    </tr>\n",
       "    <tr>\n",
       "      <th>13</th>\n",
       "      <td>45435a</td>\n",
       "      <td>ac969c0</td>\n",
       "      <td>1007</td>\n",
       "      <td>81b2d00</td>\n",
       "    </tr>\n",
       "    <tr>\n",
       "      <th>14</th>\n",
       "      <td>45435a</td>\n",
       "      <td>ac969c0</td>\n",
       "      <td>1007</td>\n",
       "      <td>bbec3c0</td>\n",
       "    </tr>\n",
       "    <tr>\n",
       "      <th>15</th>\n",
       "      <td>45435a</td>\n",
       "      <td>ac969c0</td>\n",
       "      <td>1007</td>\n",
       "      <td>802b940</td>\n",
       "    </tr>\n",
       "    <tr>\n",
       "      <th>16</th>\n",
       "      <td>45435a</td>\n",
       "      <td>ac969c0</td>\n",
       "      <td>1007</td>\n",
       "      <td>802d100</td>\n",
       "    </tr>\n",
       "    <tr>\n",
       "      <th>...</th>\n",
       "      <td>...</td>\n",
       "      <td>...</td>\n",
       "      <td>...</td>\n",
       "      <td>...</td>\n",
       "    </tr>\n",
       "    <tr>\n",
       "      <th>1681519</th>\n",
       "      <td>45435a</td>\n",
       "      <td>b0fc000</td>\n",
       "      <td>3811005</td>\n",
       "      <td>889a380</td>\n",
       "    </tr>\n",
       "    <tr>\n",
       "      <th>1681555</th>\n",
       "      <td>45435a</td>\n",
       "      <td>80a5c80</td>\n",
       "      <td>2798401</td>\n",
       "      <td>80a8c00</td>\n",
       "    </tr>\n",
       "    <tr>\n",
       "      <th>1681633</th>\n",
       "      <td>45435a</td>\n",
       "      <td>b0cf0c0</td>\n",
       "      <td>289d008</td>\n",
       "      <td>beca3c0</td>\n",
       "    </tr>\n",
       "    <tr>\n",
       "      <th>1681634</th>\n",
       "      <td>45435a</td>\n",
       "      <td>b0d4fc0</td>\n",
       "      <td>387f000</td>\n",
       "      <td>b1d0700</td>\n",
       "    </tr>\n",
       "    <tr>\n",
       "      <th>1681635</th>\n",
       "      <td>45435a</td>\n",
       "      <td>b0d4fc0</td>\n",
       "      <td>387f000</td>\n",
       "      <td>b1d6600</td>\n",
       "    </tr>\n",
       "  </tbody>\n",
       "</table>\n",
       "<p>124868 rows × 4 columns</p>\n",
       "</div>"
      ],
      "text/plain": [
       "             PC Trigger Physical_Address Trigger Structural_Address  \\\n",
       "12       45435a                  ac969c0                       1007   \n",
       "13       45435a                  ac969c0                       1007   \n",
       "14       45435a                  ac969c0                       1007   \n",
       "15       45435a                  ac969c0                       1007   \n",
       "16       45435a                  ac969c0                       1007   \n",
       "...         ...                      ...                        ...   \n",
       "1681519  45435a                  b0fc000                    3811005   \n",
       "1681555  45435a                  80a5c80                    2798401   \n",
       "1681633  45435a                  b0cf0c0                    289d008   \n",
       "1681634  45435a                  b0d4fc0                    387f000   \n",
       "1681635  45435a                  b0d4fc0                    387f000   \n",
       "\n",
       "        Prefetch Target  \n",
       "12              974db40  \n",
       "13              81b2d00  \n",
       "14              bbec3c0  \n",
       "15              802b940  \n",
       "16              802d100  \n",
       "...                 ...  \n",
       "1681519         889a380  \n",
       "1681555         80a8c00  \n",
       "1681633         beca3c0  \n",
       "1681634         b1d0700  \n",
       "1681635         b1d6600  \n",
       "\n",
       "[124868 rows x 4 columns]"
      ]
     },
     "execution_count": 32,
     "metadata": {},
     "output_type": "execute_result"
    }
   ],
   "source": [
    "ipcp_isb_pf_df_ms[ipcp_isb_pf_df_ms['PC'] == '45435a']"
   ]
  }
 ],
 "metadata": {
  "kernelspec": {
   "display_name": ".venv",
   "language": "python",
   "name": "python3"
  },
  "language_info": {
   "codemirror_mode": {
    "name": "ipython",
    "version": 3
   },
   "file_extension": ".py",
   "mimetype": "text/x-python",
   "name": "python",
   "nbconvert_exporter": "python",
   "pygments_lexer": "ipython3",
   "version": "3.12.3"
  }
 },
 "nbformat": 4,
 "nbformat_minor": 2
}
