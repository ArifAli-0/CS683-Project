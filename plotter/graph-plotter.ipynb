{
 "cells": [
  {
   "cell_type": "markdown",
   "metadata": {},
   "source": [
    "#### Libraries"
   ]
  },
  {
   "cell_type": "code",
   "execution_count": null,
   "metadata": {},
   "outputs": [],
   "source": [
    "import os\n",
    "import re\n",
    "import numpy as np\n",
    "import pandas as pd\n",
    "from matplotlib import pyplot as plt\n",
    "import seaborn as sns\n",
    "from scipy.stats import gmean\n"
   ]
  },
  {
   "cell_type": "markdown",
   "metadata": {},
   "source": [
    "#### Function to parse logs"
   ]
  },
  {
   "cell_type": "code",
   "execution_count": null,
   "metadata": {},
   "outputs": [],
   "source": [
    "# base_dir - prefix directory for all logs\n",
    "# traces - trace names for which logs to parse (X axis)\n",
    "# configs - configuration names (Labels)\n",
    "# line_parser - callable that uses regex on a log file to extract required values\n",
    "def parse_logs(base_dir, traces, configs, line_parser):\n",
    "    parsed_values = {trace: {} for trace in traces}\n",
    "    for trace in traces:\n",
    "        for config in configs:\n",
    "            log_file = base_dir + f\"{trace}-{config}.log\"\n",
    "            parsed_values[trace][config] = line_parser(log_file)\n",
    "    return parsed_values"
   ]
  },
  {
   "cell_type": "markdown",
   "metadata": {},
   "source": [
    "#### Main plotting function"
   ]
  },
  {
   "cell_type": "code",
   "execution_count": null,
   "metadata": {},
   "outputs": [],
   "source": [
    "# data - \n",
    "# confignames - labels of configuration\n",
    "# xticks - Traces names\n",
    "# xlabel - String denoting X axis label\n",
    "# ylabel - String denoting Y axis label\n",
    "# title - String denoting title of graph\n",
    "# barwidth - optional parameter to control bar spacing\n",
    "# addbaseline - optional parameter to control whether to add a dashed horizontal line at y = 1\n",
    "def plot(data, confignames, xticks, xlabel, ylabel, title, barwidth=0.2, addbaseline=True):\n",
    "    # Plotting the speedups\n",
    "    plt.rcParams.update({'font.size': 10})\n",
    "    x = np.arange(len(xticks))  # X axis positions for the traces\n",
    "    width = barwidth  # Width of the bars\n",
    "\n",
    "    fig, ax = plt.subplots(figsize=(10, 5))\n",
    "\n",
    "    # Plot bars for each configuration\n",
    "    for i, config in enumerate(confignames):\n",
    "        _values = [data[tick][config] for tick in xticks]\n",
    "        bars = ax.bar(x + i*width, _values, width, label=config)\n",
    "\n",
    "        # Annotate bars with speedup values\n",
    "        for bar in bars:\n",
    "            height = bar.get_height()\n",
    "            ax.annotate(f'{height:.2f}',  # Format the annotation to 2 decimal places\n",
    "                        xy=(bar.get_x() + bar.get_width() / 2, height),\n",
    "                        xytext=(0, 3),  # Offset text slightly above the bar\n",
    "                        textcoords=\"offset points\",\n",
    "                        ha='center', va='bottom', rotation=90)\n",
    "\n",
    "    if(addbaseline)\n",
    "    # Add a translucent dashed line at y=1.0 for the baseline\n",
    "    ax.axhline(y=1.0, color='gray', linestyle='--', linewidth=1.5, alpha=0.7)\n",
    "\n",
    "\n",
    "    # Add labels and titles\n",
    "    ax.set_xlabel(xlabel)\n",
    "    ax.set_ylim(0, 5.0)\n",
    "    ax.set_ylabel(ylabel)\n",
    "    ax.set_title(title)\n",
    "    ax.set_xticks(x + 3*width / 2)\n",
    "    ax.set_xticklabels(trace_names, rotation=0)\n",
    "    ax.legend()\n",
    "\n",
    "    # Show the plot\n",
    "    plt.tight_layout()\n",
    "    plt.show()\n"
   ]
  },
  {
   "cell_type": "markdown",
   "metadata": {},
   "source": [
    "#### Utility function to list all filenames with given extension in a directory"
   ]
  },
  {
   "cell_type": "code",
   "execution_count": null,
   "metadata": {},
   "outputs": [],
   "source": [
    "def list_trace_names(directory, extension):\n",
    "    file_names = []\n",
    "    for root, _, files in os.walk(directory):\n",
    "        for file in files:\n",
    "            if file.endswith(extension):\n",
    "                file_name_custom = \".\".join(file.split(\".\")[:-2])\n",
    "                file_names.append(file_name_custom)\n",
    "    return file_names"
   ]
  },
  {
   "cell_type": "markdown",
   "metadata": {},
   "source": [
    "### Plotting Speedup"
   ]
  },
  {
   "cell_type": "markdown",
   "metadata": {},
   "source": [
    "##### Callable to parse ipc values from a given logfile path"
   ]
  },
  {
   "cell_type": "code",
   "execution_count": null,
   "metadata": {},
   "outputs": [],
   "source": [
    "def extract_ipc(log_file):\n",
    "    with open(log_file, 'r') as f:\n",
    "        for line in f:\n",
    "            if 'CPU 0 cumulative IPC' in line:\n",
    "                ipc_value = float(re.search(r\"IPC:\\s([\\d\\.]+)\", line).group(1))\n",
    "                return ipc_value\n",
    "    return None"
   ]
  },
  {
   "cell_type": "markdown",
   "metadata": {},
   "source": [
    "#### V1"
   ]
  },
  {
   "cell_type": "code",
   "execution_count": null,
   "metadata": {},
   "outputs": [],
   "source": [
    "base_dir_v1 = \"../logs/SPEC-CPU/\"\n",
    "directory_path = \"../traces/SPEC-CPU2017/\"\n",
    "file_extension = \".xz\"\n",
    "configs_v3 = ['baseline', 'isb-l2', 'ipcp-l1', 'ipcp-isbv1', 'ipcp-isbv2', 'ipcp-isbv3-ATAP-acc', 'ipcp-isbv3-MTAP-acc']\n",
    "trace_names_v3  = list_trace_names(directory_path, file_extension)"
   ]
  }
 ],
 "metadata": {
  "kernelspec": {
   "display_name": ".venv",
   "language": "python",
   "name": "python3"
  },
  "language_info": {
   "name": "python",
   "version": "3.12.3"
  }
 },
 "nbformat": 4,
 "nbformat_minor": 2
}
